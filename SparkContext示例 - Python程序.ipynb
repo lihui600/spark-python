{
 "cells": [
  {
   "cell_type": "code",
   "execution_count": 2,
   "id": "91687566",
   "metadata": {},
   "outputs": [
    {
     "name": "stdout",
     "output_type": "stream",
     "text": [
      "Lines with a: 64, lines with b: 32\n"
     ]
    }
   ],
   "source": [
    "# coding:utf-8\n",
    "from pyspark import SparkContext\n",
    "logFile = \"README.md\"  \n",
    "sc = SparkContext(\"local\", \"app\")\n",
    "logData = sc.textFile(logFile).cache()\n",
    "numAs = logData.filter(lambda s: 'a' in s).count()\n",
    "numBs = logData.filter(lambda s: 'b' in s).count()\n",
    "str= \"Lines with a: %i, lines with b: %i\" % (numAs, numBs)\n",
    "print(str)\n",
    "sc.stop() "
   ]
  },
  {
   "cell_type": "code",
   "execution_count": null,
   "id": "2fd3e46a",
   "metadata": {},
   "outputs": [],
   "source": []
  }
 ],
 "metadata": {
  "kernelspec": {
   "display_name": "Python 3 (ipykernel)",
   "language": "python",
   "name": "python3"
  },
  "language_info": {
   "codemirror_mode": {
    "name": "ipython",
    "version": 3
   },
   "file_extension": ".py",
   "mimetype": "text/x-python",
   "name": "python",
   "nbconvert_exporter": "python",
   "pygments_lexer": "ipython3",
   "version": "3.9.7"
  }
 },
 "nbformat": 4,
 "nbformat_minor": 5
}
